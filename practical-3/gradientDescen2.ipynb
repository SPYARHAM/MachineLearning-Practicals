{
 "cells": [
  {
   "cell_type": "code",
   "execution_count": 2,
   "metadata": {},
   "outputs": [],
   "source": [
    "import pandas as pd\n",
    "import numpy as np\n",
    "import matplotlib.pyplot as plt\n"
   ]
  },
  {
   "cell_type": "code",
   "execution_count": 3,
   "metadata": {},
   "outputs": [
    {
     "data": {
      "text/html": [
       "<div>\n",
       "<style scoped>\n",
       "    .dataframe tbody tr th:only-of-type {\n",
       "        vertical-align: middle;\n",
       "    }\n",
       "\n",
       "    .dataframe tbody tr th {\n",
       "        vertical-align: top;\n",
       "    }\n",
       "\n",
       "    .dataframe thead th {\n",
       "        text-align: right;\n",
       "    }\n",
       "</style>\n",
       "<table border=\"1\" class=\"dataframe\">\n",
       "  <thead>\n",
       "    <tr style=\"text-align: right;\">\n",
       "      <th></th>\n",
       "      <th>Unnamed: 0</th>\n",
       "      <th>TV</th>\n",
       "      <th>radio</th>\n",
       "      <th>newspaper</th>\n",
       "      <th>sales</th>\n",
       "    </tr>\n",
       "  </thead>\n",
       "  <tbody>\n",
       "    <tr>\n",
       "      <th>0</th>\n",
       "      <td>1</td>\n",
       "      <td>230.1</td>\n",
       "      <td>37.8</td>\n",
       "      <td>69.2</td>\n",
       "      <td>22.1</td>\n",
       "    </tr>\n",
       "    <tr>\n",
       "      <th>1</th>\n",
       "      <td>2</td>\n",
       "      <td>44.5</td>\n",
       "      <td>39.3</td>\n",
       "      <td>45.1</td>\n",
       "      <td>10.4</td>\n",
       "    </tr>\n",
       "    <tr>\n",
       "      <th>2</th>\n",
       "      <td>3</td>\n",
       "      <td>17.2</td>\n",
       "      <td>45.9</td>\n",
       "      <td>69.3</td>\n",
       "      <td>9.3</td>\n",
       "    </tr>\n",
       "    <tr>\n",
       "      <th>3</th>\n",
       "      <td>4</td>\n",
       "      <td>151.5</td>\n",
       "      <td>41.3</td>\n",
       "      <td>58.5</td>\n",
       "      <td>18.5</td>\n",
       "    </tr>\n",
       "    <tr>\n",
       "      <th>4</th>\n",
       "      <td>5</td>\n",
       "      <td>180.8</td>\n",
       "      <td>10.8</td>\n",
       "      <td>58.4</td>\n",
       "      <td>12.9</td>\n",
       "    </tr>\n",
       "  </tbody>\n",
       "</table>\n",
       "</div>"
      ],
      "text/plain": [
       "   Unnamed: 0     TV  radio  newspaper  sales\n",
       "0           1  230.1   37.8       69.2   22.1\n",
       "1           2   44.5   39.3       45.1   10.4\n",
       "2           3   17.2   45.9       69.3    9.3\n",
       "3           4  151.5   41.3       58.5   18.5\n",
       "4           5  180.8   10.8       58.4   12.9"
      ]
     },
     "execution_count": 3,
     "metadata": {},
     "output_type": "execute_result"
    }
   ],
   "source": [
    "df=pd.read_csv('Advertising.csv')\n",
    "df.head()\n",
    "\n"
   ]
  },
  {
   "cell_type": "code",
   "execution_count": 4,
   "metadata": {},
   "outputs": [
    {
     "data": {
      "text/html": [
       "<div>\n",
       "<style scoped>\n",
       "    .dataframe tbody tr th:only-of-type {\n",
       "        vertical-align: middle;\n",
       "    }\n",
       "\n",
       "    .dataframe tbody tr th {\n",
       "        vertical-align: top;\n",
       "    }\n",
       "\n",
       "    .dataframe thead th {\n",
       "        text-align: right;\n",
       "    }\n",
       "</style>\n",
       "<table border=\"1\" class=\"dataframe\">\n",
       "  <thead>\n",
       "    <tr style=\"text-align: right;\">\n",
       "      <th></th>\n",
       "      <th>TV</th>\n",
       "      <th>radio</th>\n",
       "      <th>newspaper</th>\n",
       "    </tr>\n",
       "  </thead>\n",
       "  <tbody>\n",
       "    <tr>\n",
       "      <th>0</th>\n",
       "      <td>0.967425</td>\n",
       "      <td>0.979066</td>\n",
       "      <td>1.774493</td>\n",
       "    </tr>\n",
       "    <tr>\n",
       "      <th>1</th>\n",
       "      <td>-1.194379</td>\n",
       "      <td>1.080097</td>\n",
       "      <td>0.667903</td>\n",
       "    </tr>\n",
       "    <tr>\n",
       "      <th>2</th>\n",
       "      <td>-1.512360</td>\n",
       "      <td>1.524637</td>\n",
       "      <td>1.779084</td>\n",
       "    </tr>\n",
       "    <tr>\n",
       "      <th>3</th>\n",
       "      <td>0.051919</td>\n",
       "      <td>1.214806</td>\n",
       "      <td>1.283185</td>\n",
       "    </tr>\n",
       "    <tr>\n",
       "      <th>4</th>\n",
       "      <td>0.393196</td>\n",
       "      <td>-0.839507</td>\n",
       "      <td>1.278593</td>\n",
       "    </tr>\n",
       "    <tr>\n",
       "      <th>...</th>\n",
       "      <td>...</td>\n",
       "      <td>...</td>\n",
       "      <td>...</td>\n",
       "    </tr>\n",
       "    <tr>\n",
       "      <th>195</th>\n",
       "      <td>-1.267759</td>\n",
       "      <td>-1.317724</td>\n",
       "      <td>-0.769287</td>\n",
       "    </tr>\n",
       "    <tr>\n",
       "      <th>196</th>\n",
       "      <td>-0.615491</td>\n",
       "      <td>-1.236899</td>\n",
       "      <td>-1.031011</td>\n",
       "    </tr>\n",
       "    <tr>\n",
       "      <th>197</th>\n",
       "      <td>0.348934</td>\n",
       "      <td>-0.940539</td>\n",
       "      <td>-1.109069</td>\n",
       "    </tr>\n",
       "    <tr>\n",
       "      <th>198</th>\n",
       "      <td>1.590574</td>\n",
       "      <td>1.261955</td>\n",
       "      <td>1.636743</td>\n",
       "    </tr>\n",
       "    <tr>\n",
       "      <th>199</th>\n",
       "      <td>0.990720</td>\n",
       "      <td>-0.987687</td>\n",
       "      <td>-1.003461</td>\n",
       "    </tr>\n",
       "  </tbody>\n",
       "</table>\n",
       "<p>200 rows × 3 columns</p>\n",
       "</div>"
      ],
      "text/plain": [
       "           TV     radio  newspaper\n",
       "0    0.967425  0.979066   1.774493\n",
       "1   -1.194379  1.080097   0.667903\n",
       "2   -1.512360  1.524637   1.779084\n",
       "3    0.051919  1.214806   1.283185\n",
       "4    0.393196 -0.839507   1.278593\n",
       "..        ...       ...        ...\n",
       "195 -1.267759 -1.317724  -0.769287\n",
       "196 -0.615491 -1.236899  -1.031011\n",
       "197  0.348934 -0.940539  -1.109069\n",
       "198  1.590574  1.261955   1.636743\n",
       "199  0.990720 -0.987687  -1.003461\n",
       "\n",
       "[200 rows x 3 columns]"
      ]
     },
     "execution_count": 4,
     "metadata": {},
     "output_type": "execute_result"
    }
   ],
   "source": [
    "\n",
    "X=df[['TV','radio','newspaper']]\n",
    "Y=df['sales']\n",
    "Y=np.array((Y-Y.mean())/Y.std())\n",
    "X=X.apply(lambda rec:(rec-rec.mean())/rec.std(),axis=0)\n",
    "X\n",
    "\n"
   ]
  },
  {
   "cell_type": "code",
   "execution_count": 5,
   "metadata": {},
   "outputs": [
    {
     "name": "stdout",
     "output_type": "stream",
     "text": [
      "Bias: 0.976886758887682 Weights: [0.36706227 0.11477507 0.85877105]\n"
     ]
    }
   ],
   "source": [
    "import random\n",
    "def initialize(dim):\n",
    "    b=random.random()\n",
    "    theta=np.random.rand(dim)\n",
    "    return b,theta\n",
    "b,theta=initialize(3)\n",
    "print( \"Bias:\",b,\"Weights:\",theta)\n"
   ]
  },
  {
   "cell_type": "code",
   "execution_count": 6,
   "metadata": {},
   "outputs": [
    {
     "data": {
      "text/plain": [
       "array([ 2.96824697,  1.23601905,  2.12457287,  2.23733606,  2.12287849,\n",
       "        2.33618521,  0.38962266,  0.08640794, -0.94399146,  0.67385585,\n",
       "        0.2452667 ,  0.22476719,  1.93523163, -0.27691148,  1.90438755,\n",
       "        2.25368435,  4.03161713,  2.67310412,  0.13951278,  0.53125208])"
      ]
     },
     "execution_count": 6,
     "metadata": {},
     "output_type": "execute_result"
    }
   ],
   "source": [
    "def predict_Y(b,theta,X):\n",
    "    return b + np.dot(X,theta)\n",
    "Y_hat=predict_Y(b,theta,X)\n",
    "Y_hat[0:20]"
   ]
  },
  {
   "cell_type": "code",
   "execution_count": 7,
   "metadata": {},
   "outputs": [
    {
     "data": {
      "text/plain": [
       "1.8467200204807697"
      ]
     },
     "execution_count": 7,
     "metadata": {},
     "output_type": "execute_result"
    }
   ],
   "source": [
    "import math\n",
    "def get_cost(Y,Y_hat):\n",
    "    Y_resd=Y-Y_hat\n",
    "    return np.sum(np.dot(Y_resd.T,Y_resd))/(len(Y))\n",
    "Y_hat=predict_Y(b,theta,X)\n",
    "get_cost(Y,Y_hat)\n"
   ]
  },
  {
   "cell_type": "code",
   "execution_count": 8,
   "metadata": {},
   "outputs": [
    {
     "data": {
      "text/plain": [
       "array([0.36706227, 0.11477507, 0.85877105])"
      ]
     },
     "execution_count": 8,
     "metadata": {},
     "output_type": "execute_result"
    }
   ],
   "source": [
    "theta"
   ]
  },
  {
   "cell_type": "code",
   "execution_count": 18,
   "metadata": {},
   "outputs": [
    {
     "name": "stdout",
     "output_type": "stream",
     "text": [
      "After initialization -Bias:  -3.8795797092307017e-16 theta:  [0.27917527 0.00337788 0.90143132]\n",
      "previous cost 1.8467200204807697\n",
      "After first update -Bias:  -3.8798017538356267e-16 theta:  [0.27917527 0.00337788 0.90143132]\n",
      "previous cost 1.0637148450939076\n"
     ]
    }
   ],
   "source": [
    "def update_theta(x,y,y_hat,b_0,theta_o,learning_rate):\n",
    "    db=(np.sum(y_hat-y)*2)/len(y)\n",
    "    #dw=(np.dot((y_hat-y),x)*2)/len(y)\n",
    "    dw=np.dot((y_hat-y),x)\n",
    "    dw1=(np.sum(dw)*2)/len(y)\n",
    "    b_1=b_0-learning_rate*db\n",
    "    theta_1=theta_o-learning_rate*dw1\n",
    "    return b_1,theta_1\n",
    "print(\"After initialization -Bias: \",b,\"theta: \",theta)\n",
    "c1=get_cost(Y,Y_hat)\n",
    "print(\"previous cost\",c1)\n",
    "Y_hat=predict_Y(b,theta,X)\n",
    "b,theta=update_theta(X,Y,Y_hat,b,theta,0.001)\n",
    "print(\"After first update -Bias: \",b,\"theta: \",theta)\n",
    "c2=get_cost(Y,Y_hat)\n",
    "print(\"updated cost\",c2)\n"
   ]
  },
  {
   "cell_type": "code",
   "execution_count": 10,
   "metadata": {},
   "outputs": [
    {
     "name": "stdout",
     "output_type": "stream",
     "text": [
      "Final Estimate of b and theta : 0.7238527505743746 [0.54234663 0.05448164 0.76374761]\n"
     ]
    }
   ],
   "source": [
    "\n",
    "def run_gradient_descent(X,Y,alpha,num_iterations):\n",
    "    b,theta=initialize(X.shape[1])\n",
    "    iter_num=0\n",
    "    gd_iterations_df=pd.DataFrame(columns=['iteration','cost','bias'])\n",
    "    result_idx=0\n",
    "    for each_iter in range(num_iterations):\n",
    "        Y_hat=predict_Y(b,theta,X)\n",
    "        this_cost=get_cost(Y,Y_hat)\n",
    "        prev_b=b\n",
    "        prev_theta=theta\n",
    "        b,theta=update_theta(X,Y,Y_hat,prev_b,prev_theta,alpha)\n",
    "        if(iter_num%10==0):\n",
    "            gd_iterations_df.loc[result_idx]=[iter_num,this_cost,b]\n",
    "        result_idx=result_idx+1\n",
    "        iter_num +=1\n",
    "    print(\"Final Estimate of b and theta :\",b,theta)\n",
    "    return gd_iterations_df,b,theta\n",
    "gd_iterations_df,b,theta=run_gradient_descent(X,Y,alpha=0.0001,num_iterations=1000)\n",
    "\n",
    "\n"
   ]
  },
  {
   "attachments": {},
   "cell_type": "markdown",
   "metadata": {},
   "source": [
    "For different values of Learning Rate"
   ]
  },
  {
   "cell_type": "code",
   "execution_count": 11,
   "metadata": {},
   "outputs": [
    {
     "name": "stdout",
     "output_type": "stream",
     "text": [
      "Final Estimate of b and theta : 0.0022273547674217125 [0.36144842 0.46084753 0.37973943]\n",
      "Final Estimate of b and theta : 5.8306377618834535e-06 [0.10723072 0.51405881 0.52688219]\n",
      "Final Estimate of b and theta : 9.457724570563743e-09 [0.8464679  0.37966883 0.07869112]\n",
      "Final Estimate of b and theta : 2.7850322816470822e-11 [0.32807485 0.17958144 0.68693209]\n",
      "Final Estimate of b and theta : 2.1995986978701722e-14 [0.21119392 0.21305967 0.74558181]\n",
      "Final Estimate of b and theta : -2.884132458928179e-17 [0.2764826  0.57828391 0.32939622]\n",
      "Final Estimate of b and theta : -2.615884670966231e-16 [0.86209822 0.20334815 0.24246763]\n",
      "Final Estimate of b and theta : 1.1080546848486397e-16 [0.50732687 0.7231352  0.00286378]\n",
      "Final Estimate of b and theta : 1.110100855440334e-16 [0.13464326 0.74022194 0.27941702]\n",
      "Final Estimate of b and theta : -3.8795797092307017e-16 [0.27917527 0.00337788 0.90143132]\n"
     ]
    }
   ],
   "source": [
    "\n",
    "\n",
    "learning_rates = [0.001, 0.002, 0.003, 0.004, 0.005, 0.006, 0.007, 0.008, 0.009, 0.01]\n",
    "\n",
    "# Runing gradient descent for each learning rate and storing the results in a table\n",
    "results = []\n",
    "for alpha in learning_rates:\n",
    "    gd_iterations_df, b, theta = run_gradient_descent(X, Y, alpha, 3000)\n",
    "    final_cost = gd_iterations_df['cost'].iloc[-1]\n",
    "    results.append({'learning_rate': alpha, 'final_cost': final_cost, 'bias': b, 'theta': theta, 'iterations': len(gd_iterations_df)})\n",
    "\n"
   ]
  },
  {
   "cell_type": "code",
   "execution_count": 12,
   "metadata": {},
   "outputs": [
    {
     "name": "stdout",
     "output_type": "stream",
     "text": [
      "   learning_rate  final_cost  iterations\n",
      "0          0.001    0.373148         300\n",
      "1          0.002    0.753081         300\n",
      "2          0.003    0.132384         300\n",
      "3          0.004    0.693762         300\n",
      "4          0.005    0.860466         300\n",
      "5          0.006    0.430555         300\n",
      "6          0.007    0.226268         300\n",
      "7          0.008    0.192822         300\n",
      "8          0.009    0.611436         300\n",
      "9          0.010    1.063715         300\n"
     ]
    }
   ],
   "source": [
    "results_df = pd.DataFrame(results)\n",
    "results_df = results_df[['learning_rate', 'final_cost', 'iterations']]\n",
    "\n",
    "print(results_df)\n"
   ]
  },
  {
   "cell_type": "code",
   "execution_count": 13,
   "metadata": {},
   "outputs": [
    {
     "name": "stdout",
     "output_type": "stream",
     "text": [
      "Best learning rate: 0.003, Final cost: 0.13238385008259473\n"
     ]
    }
   ],
   "source": [
    "best_learning_rate = results_df['learning_rate'].iloc[np.argmin(results_df['final_cost'])]\n",
    "print(f\"Best learning rate: {best_learning_rate}, Final cost: {np.min(results_df['final_cost'])}\")"
   ]
  },
  {
   "attachments": {},
   "cell_type": "markdown",
   "metadata": {},
   "source": [
    "plotting graph"
   ]
  },
  {
   "cell_type": "code",
   "execution_count": 14,
   "metadata": {},
   "outputs": [
    {
     "data": {
      "image/png": "[encoded data removed]",
      "text/plain": [
       "<Figure size 640x480 with 1 Axes>"
      ]
     },
     "metadata": {},
     "output_type": "display_data"
    }
   ],
   "source": [
    "# Plot the learning rate vs cost graph\n",
    "plt.plot(results_df['learning_rate'], results_df['final_cost'], 'ro')\n",
    "plt.xlabel('Learning rate')\n",
    "plt.ylabel('Final cost')\n",
    "plt.title('Learning rate vs cost')\n",
    "plt.show()\n"
   ]
  },
  {
   "cell_type": "code",
   "execution_count": 15,
   "metadata": {},
   "outputs": [
    {
     "data": {
      "text/plain": [
       "Text(0, 0.5, 'Cost or MSE')"
      ]
     },
     "execution_count": 15,
     "metadata": {},
     "output_type": "execute_result"
    },
    {
     "data": {
      "image/png": "[encoded data removed]",
      "text/plain": [
       "<Figure size 640x480 with 1 Axes>"
      ]
     },
     "metadata": {},
     "output_type": "display_data"
    }
   ],
   "source": [
    "from IPython import get_ipython\n",
    "get_ipython().run_line_magic('matplotlib', 'inline')\n",
    "plt.plot(gd_iterations_df['iteration'],gd_iterations_df['cost'])\n",
    "plt.xlabel(\"Number of iterations\")\n",
    "plt.ylabel(\"Cost or MSE\")\n"
   ]
  },
  {
   "cell_type": "code",
   "execution_count": 16,
   "metadata": {},
   "outputs": [
    {
     "data": {
      "text/plain": [
       "Text(0, 0.5, 'bias')"
      ]
     },
     "execution_count": 16,
     "metadata": {},
     "output_type": "execute_result"
    },
    {
     "data": {
      "image/png": "[encoded data removed]",
      "text/plain": [
       "<Figure size 640x480 with 1 Axes>"
      ]
     },
     "metadata": {},
     "output_type": "display_data"
    }
   ],
   "source": [
    "from IPython import get_ipython\n",
    "get_ipython().run_line_magic('matplotlib', 'inline')\n",
    "plt.plot(gd_iterations_df['iteration'],gd_iterations_df['bias'])\n",
    "plt.xlabel(\"Number of iterations\")\n",
    "plt.ylabel(\"bias\")"
   ]
  },
  {
   "cell_type": "code",
   "execution_count": 17,
   "metadata": {},
   "outputs": [
    {
     "data": {
      "text/plain": [
       "[<matplotlib.lines.Line2D at 0x11f3faf40>]"
      ]
     },
     "execution_count": 17,
     "metadata": {},
     "output_type": "execute_result"
    },
    {
     "data": {
      "image/png": "[encoded data removed]",
      "text/plain": [
       "<Figure size 640x480 with 1 Axes>"
      ]
     },
     "metadata": {},
     "output_type": "display_data"
    }
   ],
   "source": [
    "plt.ylabel('b')\n",
    "plt.xlabel('theta')\n",
    "\n",
    "plt.plot(theta)\n",
    "plt.plot(b)"
   ]
  }
 ],
 "metadata": {
  "kernelspec": {
   "display_name": "Python 3",
   "language": "python",
   "name": "python3"
  },
  "language_info": {
   "codemirror_mode": {
    "name": "ipython",
    "version": 3
   },
   "file_extension": ".py",
   "mimetype": "text/x-python",
   "name": "python",
   "nbconvert_exporter": "python",
   "pygments_lexer": "ipython3",
   "version": "3.9.6"
  },
  "orig_nbformat": 4,
  "vscode": {
   "interpreter": {
    "hash": "31f2aee4e71d21fbe5cf8b01ff0e069b9275f58929596ceb00d14d90e3e16cd6"
   }
  }
 },
 "nbformat": 4,
 "nbformat_minor": 2
}
