{
 "cells": [
  {
   "cell_type": "code",
   "execution_count": 1,
   "metadata": {},
   "outputs": [],
   "source": [
    "import numpy as np\n",
    "# Define input\n",
    "X = np.array([[0,0],[0,1],[1,0],[1,1]])"
   ]
  },
  {
   "cell_type": "code",
   "execution_count": 2,
   "metadata": {},
   "outputs": [],
   "source": [
    "#Define output features\n",
    "Y = np.array([[0,1,1,1]])"
   ]
  },
  {
   "cell_type": "code",
   "execution_count": 3,
   "metadata": {},
   "outputs": [],
   "source": [
    "\n",
    "# Reshape target into vector\n",
    "Y = Y.reshape(4,1)"
   ]
  },
  {
   "cell_type": "code",
   "execution_count": 4,
   "metadata": {},
   "outputs": [],
   "source": [
    "# Select random weights w1, w2\n",
    "W = np.array([[10],[10]])\n",
    "# bias b\n",
    "b = -5"
   ]
  },
  {
   "cell_type": "code",
   "execution_count": 5,
   "metadata": {},
   "outputs": [
    {
     "name": "stdout",
     "output_type": "stream",
     "text": [
      "Sigmoid \n",
      ": [[0.00669285]\n",
      " [0.99330715]\n",
      " [0.99330715]\n",
      " [0.99999969]]\n"
     ]
    }
   ],
   "source": [
    "z = np.dot(X,W)+b\n",
    "sig = 1/(1 + np.exp(-z))\n",
    "print('Sigmoid \\n:', sig)"
   ]
  },
  {
   "cell_type": "code",
   "execution_count": 6,
   "metadata": {},
   "outputs": [
    {
     "name": "stdout",
     "output_type": "stream",
     "text": [
      "\n",
      " Yhat: [0, 1, 1, 1]\n"
     ]
    }
   ],
   "source": [
    "\n",
    "yhat1 = 0\n",
    "yhat = []\n",
    "for i in range(len(Y)):\n",
    "    if (sig[i] < 0.5):\n",
    "        yhat1 = 0\n",
    "    else:\n",
    "        yhat1 = 1\n",
    "    yhat.append(yhat1)\n",
    "print('\\n Yhat:', yhat)\n"
   ]
  }
 ],
 "metadata": {
  "kernelspec": {
   "display_name": "Python 3",
   "language": "python",
   "name": "python3"
  },
  "language_info": {
   "codemirror_mode": {
    "name": "ipython",
    "version": 3
   },
   "file_extension": ".py",
   "mimetype": "text/x-python",
   "name": "python",
   "nbconvert_exporter": "python",
   "pygments_lexer": "ipython3",
   "version": "3.9.6"
  },
  "orig_nbformat": 4,
  "vscode": {
   "interpreter": {
    "hash": "31f2aee4e71d21fbe5cf8b01ff0e069b9275f58929596ceb00d14d90e3e16cd6"
   }
  }
 },
 "nbformat": 4,
 "nbformat_minor": 2
}
